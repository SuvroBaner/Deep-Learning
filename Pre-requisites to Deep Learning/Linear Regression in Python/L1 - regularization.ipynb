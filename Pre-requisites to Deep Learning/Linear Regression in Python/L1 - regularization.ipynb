{
 "cells": [
  {
   "cell_type": "code",
   "execution_count": 1,
   "metadata": {
    "collapsed": true
   },
   "outputs": [],
   "source": [
    "import numpy as np\n",
    "import matplotlib.pyplot as plt\n",
    "%matplotlib inline"
   ]
  },
  {
   "cell_type": "code",
   "execution_count": 2,
   "metadata": {
    "collapsed": true
   },
   "outputs": [],
   "source": [
    "N = 50 # No. of data points to 50\n",
    "D = 50 # Dimensionality is also 50. So, it's a high dimensional data i.e. N <= D or a fat matrix\n",
    "X = (np.random.random((N, D)) - 0.5)*10 # X matrix is a uniformly distributed matrix of size N , D\n",
    "# and it is going to be centered around 0 from -5 to +5"
   ]
  },
  {
   "cell_type": "code",
   "execution_count": 3,
   "metadata": {
    "collapsed": false
   },
   "outputs": [
    {
     "data": {
      "text/plain": [
       "array([[ 2.85490517, -4.38580987, -3.77084578, ..., -3.56656382,\n",
       "        -2.95737459,  0.46132689],\n",
       "       [-3.0236796 ,  0.89271193, -4.66929667, ..., -1.07161695,\n",
       "         2.44369264,  4.06807011],\n",
       "       [ 0.82280534, -4.77762058,  2.12227376, ...,  1.05568975,\n",
       "        -4.77640137,  3.18052638],\n",
       "       ..., \n",
       "       [ 0.09041005,  4.20277542,  1.75433427, ...,  4.7490879 ,\n",
       "         1.7050261 , -3.96252377],\n",
       "       [-1.50389559, -3.72772938,  0.30717317, ..., -3.87545455,\n",
       "         1.81489011, -1.4608419 ],\n",
       "       [ 1.29715866,  3.9463745 , -2.69025286, ...,  1.1337098 ,\n",
       "        -2.06935691,  0.45087   ]])"
      ]
     },
     "execution_count": 3,
     "metadata": {},
     "output_type": "execute_result"
    }
   ],
   "source": [
    "X"
   ]
  },
  {
   "cell_type": "code",
   "execution_count": 4,
   "metadata": {
    "collapsed": true
   },
   "outputs": [],
   "source": [
    "# So, the true weights is 1, 0.5 and -0.5 for the first 3 dimensions. All other dimensions's true weight is 0\n",
    "true_w = np.array([1, 0.5, -0.5] + [0]*(D-3))\n",
    "# The output is -\n",
    "Y = X.dot(true_w) + np.random.randn(N)*0.5  # adding the gaussian random noise"
   ]
  },
  {
   "cell_type": "code",
   "execution_count": 5,
   "metadata": {
    "collapsed": false
   },
   "outputs": [
    {
     "data": {
      "image/png": "[encoded data removed]",
      "text/plain": [
       "<matplotlib.figure.Figure at 0x2b130747710>"
      ]
     },
     "metadata": {},
     "output_type": "display_data"
    }
   ],
   "source": [
    "# Now we do Gradient Descent-\n",
    "\n",
    "costs = []\n",
    "w = np.random.randn(D) / np.sqrt(D)\n",
    "learning_rate = 0.001\n",
    "l1 = 10.0 # l1 regularization term\n",
    "\n",
    "# We will do 500 epochs\n",
    "for t in range(500):\n",
    "    Yhat = X.dot(w)\n",
    "    delta = Yhat - Y\n",
    "    w = w - learning_rate*(X.T.dot(delta) + l1*np.sign(w))  # this is the gradient of the cost function (the last part of it)\n",
    "    mse = delta.dot(delta) / N\n",
    "    costs.append(mse)\n",
    "    \n",
    "plt.plot(costs)\n",
    "plt.show()  # The costs decreases pretty quickly"
   ]
  },
  {
   "cell_type": "code",
   "execution_count": 6,
   "metadata": {
    "collapsed": false
   },
   "outputs": [
    {
     "name": "stdout",
     "output_type": "stream",
     "text": [
      "[  9.22898538e-01   5.12672067e-01  -4.55188613e-01   2.10240239e-02\n",
      "  -9.05198433e-04   2.75316957e-02  -3.01248817e-02   1.39294594e-02\n",
      "  -2.53243080e-02  -8.85889956e-03   1.91853751e-02  -1.34145758e-02\n",
      "   8.97911160e-04   3.29097993e-03  -3.39367783e-02   5.07631325e-02\n",
      "   1.24811484e-02  -7.07059189e-03   6.95440933e-04   8.89537227e-03\n",
      "   2.00571892e-02  -2.90013282e-02   9.57701120e-03   3.83692268e-04\n",
      "   4.17160022e-02  -4.81746677e-03  -7.74316325e-03  -5.62696730e-03\n",
      "  -2.79127979e-02   4.77429655e-04   1.41548935e-03   1.07709069e-03\n",
      "  -7.90694139e-03  -4.05399928e-03  -2.60437133e-02  -7.12737577e-03\n",
      "   2.93199327e-02  -2.23664642e-02  -7.69962029e-03  -3.04919374e-02\n",
      "   2.74799805e-02   2.52945133e-02  -2.62091850e-02  -3.67061701e-03\n",
      "   3.02536456e-03  -1.54617179e-02   2.53340237e-03  -4.79889575e-03\n",
      "  -5.10612142e-03   1.19574855e-02]\n"
     ]
    }
   ],
   "source": [
    "print(w)"
   ]
  },
  {
   "cell_type": "code",
   "execution_count": 7,
   "metadata": {
    "collapsed": false
   },
   "outputs": [
    {
     "data": {
      "text/plain": [
       "<matplotlib.legend.Legend at 0x2b130b909e8>"
      ]
     },
     "execution_count": 7,
     "metadata": {},
     "output_type": "execute_result"
    },
    {
     "data": {
      "image/png": "[encoded data removed]",
      "text/plain": [
       "<matplotlib.figure.Figure at 0x2b1307237b8>"
      ]
     },
     "metadata": {},
     "output_type": "display_data"
    }
   ],
   "source": [
    "plt.plot(true_w, label = 'true w')\n",
    "plt.plot(w, label = 'w_map')\n",
    "plt.legend()"
   ]
  },
  {
   "cell_type": "code",
   "execution_count": null,
   "metadata": {
    "collapsed": true
   },
   "outputs": [],
   "source": [
    "# The true_w and map_w are close to each other. The first three weights are 1, 0.5, -0.5 and the rest is 0.\n",
    "# The Gradient descent gives the same value."
   ]
  }
 ],
 "metadata": {
  "kernelspec": {
   "display_name": "Python 3",
   "language": "python",
   "name": "python3"
  },
  "language_info": {
   "codemirror_mode": {
    "name": "ipython",
    "version": 3
   },
   "file_extension": ".py",
   "mimetype": "text/x-python",
   "name": "python",
   "nbconvert_exporter": "python",
   "pygments_lexer": "ipython3",
   "version": "3.5.1"
  }
 },
 "nbformat": 4,
 "nbformat_minor": 0
}
