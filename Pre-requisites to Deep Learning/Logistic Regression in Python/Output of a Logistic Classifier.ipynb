{
 "cells": [
  {
   "cell_type": "code",
   "execution_count": 1,
   "metadata": {
    "collapsed": true
   },
   "outputs": [],
   "source": [
    "import numpy as np"
   ]
  },
  {
   "cell_type": "code",
   "execution_count": 12,
   "metadata": {
    "collapsed": false
   },
   "outputs": [
    {
     "data": {
      "text/plain": [
       "array([[ 1.        ,  1.50195283, -0.08116284],\n",
       "       [ 1.        , -0.22844249,  0.19730432],\n",
       "       [ 1.        ,  0.06844851, -0.7882128 ]])"
      ]
     },
     "execution_count": 12,
     "metadata": {},
     "output_type": "execute_result"
    }
   ],
   "source": [
    "# Create data to perform the tasks\n",
    "N = 100 # 100 observations\n",
    "D = 2 # two dimensions x1 and x2\n",
    "\n",
    "X = np.random.randn(N, D) # Standard Normal distribution of dimension N x D\n",
    "ones = np.array([[1]*N]).T  # first we create an array of [1] N elements then transpose it yo have N rows\n",
    "Xb = np.concatenate((ones, X), axis = 1)  # adding the bias term\n",
    "Xb[0:3]"
   ]
  },
  {
   "cell_type": "code",
   "execution_count": 23,
   "metadata": {
    "collapsed": false
   },
   "outputs": [
    {
     "data": {
      "text/plain": [
       "array([-0.08140637, -1.67120485, -0.24134048])"
      ]
     },
     "execution_count": 23,
     "metadata": {},
     "output_type": "execute_result"
    }
   ],
   "source": [
    "# Let's randomly initialize the weights vector-\n",
    "w = np.random.randn(D + 1) # for D dimenions and the 1 bias term\n",
    "w"
   ]
  },
  {
   "cell_type": "code",
   "execution_count": 14,
   "metadata": {
    "collapsed": true
   },
   "outputs": [],
   "source": [
    "# First let's calculate the Inner product between each row of X and w\n",
    "z = Xb.dot(w)\n",
    "# Now, here's a strange thing. We usually write wTX (w transpose X) as the inner product because w and D are usually D x 1 column\n",
    "# vector. In this case, we have N x D where each X is a 1 x D row vector and w is 1 x D . So, the inner product should give us\n",
    "# N x 1 vector"
   ]
  },
  {
   "cell_type": "code",
   "execution_count": 16,
   "metadata": {
    "collapsed": false
   },
   "outputs": [
    {
     "data": {
      "text/plain": [
       "(100,)"
      ]
     },
     "execution_count": 16,
     "metadata": {},
     "output_type": "execute_result"
    }
   ],
   "source": [
    "z.shape"
   ]
  },
  {
   "cell_type": "code",
   "execution_count": 33,
   "metadata": {
    "collapsed": false
   },
   "outputs": [
    {
     "data": {
      "text/plain": [
       "array([-1.50784616,  1.76748722,  0.59565622, -0.95368689,  1.24232059,\n",
       "       -0.08549886, -0.12956088,  1.30154866,  4.19983487, -4.21141614])"
      ]
     },
     "execution_count": 33,
     "metadata": {},
     "output_type": "execute_result"
    }
   ],
   "source": [
    "z[0:10]  # 100 scalar values which come from the dot product i.e. (w.T)X"
   ]
  },
  {
   "cell_type": "code",
   "execution_count": 24,
   "metadata": {
    "collapsed": true
   },
   "outputs": [],
   "source": [
    "#z1_t = Xb.dot(w.T)\n",
    "#z1_t.shape\n",
    "# (100, )  # note in both we get N x 1 column vector."
   ]
  },
  {
   "cell_type": "code",
   "execution_count": 25,
   "metadata": {
    "collapsed": true
   },
   "outputs": [],
   "source": [
    "# Now apply the sigmoid to get the value of the function-\n",
    "def sigmoid(z):\n",
    "    return 1/(1 + np.exp(-z))"
   ]
  },
  {
   "cell_type": "code",
   "execution_count": 30,
   "metadata": {
    "collapsed": false
   },
   "outputs": [
    {
     "name": "stdout",
     "output_type": "stream",
     "text": [
      "100\n"
     ]
    }
   ],
   "source": [
    "result = sigmoid(z)\n",
    "print(len(result))  # so, it's got 100 different values for the function "
   ]
  },
  {
   "cell_type": "code",
   "execution_count": 31,
   "metadata": {
    "collapsed": false
   },
   "outputs": [
    {
     "data": {
      "text/plain": [
       "array([ 0.18125821,  0.8541449 ,  0.64466189,  0.27814396,  0.77596769,\n",
       "        0.4786383 ,  0.46765501,  0.7860955 ,  0.98522356,  0.01460878,\n",
       "        0.95996566,  0.33065887,  0.04152121,  0.97309926,  0.74340336,\n",
       "        0.78331144,  0.19926458,  0.7000234 ,  0.91516557,  0.93350152,\n",
       "        0.81178467,  0.49478358,  0.98630427,  0.71093563,  0.56071351,\n",
       "        0.81257747,  0.19283069,  0.96098846,  0.97326245,  0.9595683 ,\n",
       "        0.94577124,  0.45245458,  0.12967341,  0.93206098,  0.30961014,\n",
       "        0.93829592,  0.41636794,  0.91480634,  0.51454723,  0.52831042,\n",
       "        0.67307099,  0.9865215 ,  0.87512751,  0.43692462,  0.71711333,\n",
       "        0.68908508,  0.77923678,  0.60512266,  0.23479699,  0.31907087,\n",
       "        0.44673977,  0.63874591,  0.96239789,  0.29201664,  0.90498289,\n",
       "        0.89643155,  0.18285079,  0.71743157,  0.7212297 ,  0.84059356,\n",
       "        0.79948832,  0.91226759,  0.76699564,  0.6639063 ,  0.20930495,\n",
       "        0.83897394,  0.57069154,  0.58680993,  0.63461622,  0.9845399 ,\n",
       "        0.46221432,  0.94589166,  0.93557879,  0.05760453,  0.9824942 ,\n",
       "        0.4804829 ,  0.75262601,  0.52389987,  0.16427006,  0.7640243 ,\n",
       "        0.63614255,  0.97422688,  0.72960059,  0.89930939,  0.11360645,\n",
       "        0.55219432,  0.81165867,  0.1551973 ,  0.43789348,  0.90118602,\n",
       "        0.5696039 ,  0.87783242,  0.85522463,  0.6994713 ,  0.9911108 ,\n",
       "        0.96612022,  0.86928508,  0.26928135,  0.38124916,  0.30627797])"
      ]
     },
     "execution_count": 31,
     "metadata": {},
     "output_type": "execute_result"
    }
   ],
   "source": [
    "result # they all lie between 0 and 1"
   ]
  },
  {
   "cell_type": "code",
   "execution_count": null,
   "metadata": {
    "collapsed": true
   },
   "outputs": [],
   "source": []
  }
 ],
 "metadata": {
  "kernelspec": {
   "display_name": "Python 3",
   "language": "python",
   "name": "python3"
  },
  "language_info": {
   "codemirror_mode": {
    "name": "ipython",
    "version": 3
   },
   "file_extension": ".py",
   "mimetype": "text/x-python",
   "name": "python",
   "nbconvert_exporter": "python",
   "pygments_lexer": "ipython3",
   "version": "3.5.1"
  }
 },
 "nbformat": 4,
 "nbformat_minor": 0
}
