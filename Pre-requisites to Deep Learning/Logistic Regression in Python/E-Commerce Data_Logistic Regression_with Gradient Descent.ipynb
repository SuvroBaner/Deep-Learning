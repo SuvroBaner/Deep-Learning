{
 "cells": [
  {
   "cell_type": "code",
   "execution_count": 1,
   "metadata": {
    "collapsed": true
   },
   "outputs": [],
   "source": [
    "# Logistic Regression training"
   ]
  },
  {
   "cell_type": "code",
   "execution_count": 1,
   "metadata": {
    "collapsed": true
   },
   "outputs": [],
   "source": [
    "import numpy as np\n",
    "import matplotlib.pyplot as plt\n",
    "from sklearn.utils import shuffle\n",
    "import pandas as pd\n",
    "%matplotlib inline"
   ]
  },
  {
   "cell_type": "code",
   "execution_count": 2,
   "metadata": {
    "collapsed": false
   },
   "outputs": [
    {
     "data": {
      "text/html": [
       "<div>\n",
       "<table border=\"1\" class=\"dataframe\">\n",
       "  <thead>\n",
       "    <tr style=\"text-align: right;\">\n",
       "      <th></th>\n",
       "      <th>is_mobile</th>\n",
       "      <th>n_products_viewed</th>\n",
       "      <th>visit_duration</th>\n",
       "      <th>is_returning_visitor</th>\n",
       "      <th>time_of_day</th>\n",
       "      <th>user_action</th>\n",
       "    </tr>\n",
       "  </thead>\n",
       "  <tbody>\n",
       "    <tr>\n",
       "      <th>0</th>\n",
       "      <td>1</td>\n",
       "      <td>0</td>\n",
       "      <td>0.657510</td>\n",
       "      <td>0</td>\n",
       "      <td>3</td>\n",
       "      <td>0</td>\n",
       "    </tr>\n",
       "    <tr>\n",
       "      <th>1</th>\n",
       "      <td>1</td>\n",
       "      <td>1</td>\n",
       "      <td>0.568571</td>\n",
       "      <td>0</td>\n",
       "      <td>2</td>\n",
       "      <td>1</td>\n",
       "    </tr>\n",
       "    <tr>\n",
       "      <th>2</th>\n",
       "      <td>1</td>\n",
       "      <td>0</td>\n",
       "      <td>0.042246</td>\n",
       "      <td>1</td>\n",
       "      <td>1</td>\n",
       "      <td>0</td>\n",
       "    </tr>\n",
       "    <tr>\n",
       "      <th>3</th>\n",
       "      <td>1</td>\n",
       "      <td>1</td>\n",
       "      <td>1.659793</td>\n",
       "      <td>1</td>\n",
       "      <td>1</td>\n",
       "      <td>2</td>\n",
       "    </tr>\n",
       "    <tr>\n",
       "      <th>4</th>\n",
       "      <td>0</td>\n",
       "      <td>1</td>\n",
       "      <td>2.014745</td>\n",
       "      <td>1</td>\n",
       "      <td>1</td>\n",
       "      <td>2</td>\n",
       "    </tr>\n",
       "  </tbody>\n",
       "</table>\n",
       "</div>"
      ],
      "text/plain": [
       "   is_mobile  n_products_viewed  visit_duration  is_returning_visitor  \\\n",
       "0          1                  0        0.657510                     0   \n",
       "1          1                  1        0.568571                     0   \n",
       "2          1                  0        0.042246                     1   \n",
       "3          1                  1        1.659793                     1   \n",
       "4          0                  1        2.014745                     1   \n",
       "\n",
       "   time_of_day  user_action  \n",
       "0            3            0  \n",
       "1            2            1  \n",
       "2            1            0  \n",
       "3            1            2  \n",
       "4            1            2  "
      ]
     },
     "execution_count": 2,
     "metadata": {},
     "output_type": "execute_result"
    }
   ],
   "source": [
    "df = pd.read_csv('ecommerce_data.csv')\n",
    "df.head()"
   ]
  },
  {
   "cell_type": "code",
   "execution_count": 3,
   "metadata": {
    "collapsed": true
   },
   "outputs": [],
   "source": [
    "def get_data():\n",
    "    df = pd.read_csv('ecommerce_data.csv')\n",
    "    data = df.as_matrix() # turning into a numpy matrix\n",
    "    \n",
    "    ### want to split out X and Y columns ###\n",
    "    \n",
    "    X = data[:, :-1]  # all rows and all columns except the last one\n",
    "    Y = data[:, -1] # all rows and last column\n",
    "    \n",
    "    ### Normalize the numerical columns ###\n",
    "    \n",
    "    X[:, 1] = (X[:, 1] - X[:, 1].mean()) / X[:, 1].std()  # n_products viewed\n",
    "    X[:, 2] = (X[:, 2] - X[:, 2].mean()) / X[:, 2].std()  # visit_duration\n",
    "    \n",
    "    ### Work on the Categorical Columns ###\n",
    "    \n",
    "    # time_of_day has 4 different categorical values(0, 1, 2, 3). i.e. 24 hrs have been divided into 6 hrs each intervals.\n",
    "    N, D = X.shape # original shape of the data i.e. (500, 5)\n",
    "    X2 = np.zeros((N, D + 3))  # creating a new array with a new shape\n",
    "    X2[:, 0:(D - 1)] = X[:, 0:(D - 1)]  # All rows and from 0th column to (D - 1) columns all are same\n",
    "    \n",
    "    # for other four columns we will do a One-hot encoding\n",
    "    for n in range(N):\n",
    "        t = int(X[n, D - 1])  # (D-1) column is the time_of_day\n",
    "        X2[n, t+D-1] = 1 # when t=0, t+D-1 = 4 i.e. index = 4 means 5th column set the value to 1 and so on ...\n",
    "    \n",
    "    return X2, Y"
   ]
  },
  {
   "cell_type": "code",
   "execution_count": 4,
   "metadata": {
    "collapsed": true
   },
   "outputs": [],
   "source": [
    "# Now for the logistic class we only want the binary data and not the full data set-\n",
    "def get_binary_data():\n",
    "    X, Y = get_data()\n",
    "    X2 = X[Y <= 1]\n",
    "    Y2 = Y[Y <= 1]\n",
    "    return X2, Y2"
   ]
  },
  {
   "cell_type": "code",
   "execution_count": 5,
   "metadata": {
    "collapsed": true
   },
   "outputs": [],
   "source": [
    "X, Y = get_binary_data()\n",
    "X, Y = shuffle(X, Y)"
   ]
  },
  {
   "cell_type": "code",
   "execution_count": 6,
   "metadata": {
    "collapsed": false
   },
   "outputs": [],
   "source": [
    "Xtrain = X[:-100]\n",
    "Ytrain = Y[:-100]"
   ]
  },
  {
   "cell_type": "code",
   "execution_count": 7,
   "metadata": {
    "collapsed": false
   },
   "outputs": [],
   "source": [
    "Xtest = X[-100:]\n",
    "Ytest = Y[-100:]"
   ]
  },
  {
   "cell_type": "code",
   "execution_count": 8,
   "metadata": {
    "collapsed": true
   },
   "outputs": [],
   "source": [
    "# Let's randomly initialize the weights again-\n",
    "D = X.shape[1]  # no. of predictors\n",
    "W = np.random.randn(D)\n",
    "b = 0"
   ]
  },
  {
   "cell_type": "code",
   "execution_count": 9,
   "metadata": {
    "collapsed": true
   },
   "outputs": [],
   "source": [
    "def sigmoid(a):\n",
    "    return 1/(1 + np.exp(-a))"
   ]
  },
  {
   "cell_type": "code",
   "execution_count": 10,
   "metadata": {
    "collapsed": true
   },
   "outputs": [],
   "source": [
    "def forward(X, W, b):\n",
    "    return sigmoid(X.dot(W) + b)"
   ]
  },
  {
   "cell_type": "code",
   "execution_count": 11,
   "metadata": {
    "collapsed": true
   },
   "outputs": [],
   "source": [
    "def classification_rate(Y, P):\n",
    "    return np.mean(Y == P)"
   ]
  },
  {
   "cell_type": "code",
   "execution_count": 12,
   "metadata": {
    "collapsed": true
   },
   "outputs": [],
   "source": [
    "def cross_entropy(T, pY):  # i.e pY given X\n",
    "    return -np.mean(T*np.log(pY) + (1 - T)*np.log(1 - pY))   # negative log-likelihood for all the data points"
   ]
  },
  {
   "cell_type": "code",
   "execution_count": 13,
   "metadata": {
    "collapsed": false
   },
   "outputs": [
    {
     "name": "stdout",
     "output_type": "stream",
     "text": [
      "0 0.864194001583 0.823101749432\n",
      "1000 0.198296752556 0.151248247783\n",
      "2000 0.197602403256 0.147029564739\n",
      "3000 0.197570851787 0.146229594277\n",
      "4000 0.197569111835 0.146047280966\n",
      "5000 0.197569012056 0.146003951197\n",
      "6000 0.197569006283 0.145993547921\n",
      "7000 0.197569005948 0.145991043916\n",
      "8000 0.197569005929 0.145990440848\n",
      "9000 0.197569005927 0.145990295582\n",
      "Final train classification_rate:  0.969798657718\n",
      "Final test classification_rate:  0.97\n"
     ]
    }
   ],
   "source": [
    "train_costs = []\n",
    "test_costs = []\n",
    "learning_rate = 0.001\n",
    "\n",
    "for i in range(10000):\n",
    "    pYtrain = forward(Xtrain, W, b)\n",
    "    pYtest = forward(Xtest, W, b)\n",
    "    \n",
    "    ctrain = cross_entropy(Ytrain, pYtrain)\n",
    "    ctest = cross_entropy(Ytest, pYtest)\n",
    "    train_costs.append(ctrain)\n",
    "    test_costs.append(ctest)\n",
    "    \n",
    "    # Now we will do the gradient descent. The below two equations come from the result of minimizing the Cross Entropy Error fn\n",
    "    W -= learning_rate*Xtrain.T.dot(pYtrain - Ytrain)\n",
    "    b -= learning_rate*(pYtrain - Ytrain).sum()  # bias\n",
    "    \n",
    "    if i % 1000 == 0:\n",
    "        print(i, ctrain, ctest)\n",
    "        \n",
    "print(\"Final train classification_rate: \", classification_rate(Ytrain, np.round(pYtrain)))\n",
    "print(\"Final test classification_rate: \", classification_rate(Ytest, np.round(pYtest)))"
   ]
  },
  {
   "cell_type": "code",
   "execution_count": 30,
   "metadata": {
    "collapsed": false
   },
   "outputs": [
    {
     "data": {
      "image/png": "[encoded data removed]",
      "text/plain": [
       "<matplotlib.figure.Figure at 0x1c4fa44d240>"
      ]
     },
     "metadata": {},
     "output_type": "display_data"
    }
   ],
   "source": [
    "legend1, = plt.plot(train_costs, label = 'train costs')\n",
    "legend2, = plt.plot(test_costs, label = 'test costs')\n",
    "plt.legend([legend1, legend2])\n",
    "plt.show()"
   ]
  },
  {
   "cell_type": "code",
   "execution_count": null,
   "metadata": {
    "collapsed": true
   },
   "outputs": [],
   "source": []
  }
 ],
 "metadata": {
  "kernelspec": {
   "display_name": "Python 3",
   "language": "python",
   "name": "python3"
  },
  "language_info": {
   "codemirror_mode": {
    "name": "ipython",
    "version": 3
   },
   "file_extension": ".py",
   "mimetype": "text/x-python",
   "name": "python",
   "nbconvert_exporter": "python",
   "pygments_lexer": "ipython3",
   "version": "3.5.1"
  }
 },
 "nbformat": 4,
 "nbformat_minor": 0
}
