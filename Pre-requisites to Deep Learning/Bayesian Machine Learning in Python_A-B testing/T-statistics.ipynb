{
 "cells": [
  {
   "cell_type": "code",
   "execution_count": 1,
   "metadata": {
    "collapsed": true
   },
   "outputs": [],
   "source": [
    "import numpy as np\n",
    "from scipy import stats"
   ]
  },
  {
   "cell_type": "code",
   "execution_count": 2,
   "metadata": {
    "collapsed": true
   },
   "outputs": [],
   "source": [
    "# Let's generate some data-\n",
    "N = 10 # 10 data points for each group.\n",
    "a = np.random.randn(N) + 2 # so, a gaussian distribution of size n with mean = 2\n",
    "b = np.random.randn(N) # same gaussian distribution of size n, but mean = 0\n",
    "# Note both have variance 1 as it is coming from Standard Normal Distribution"
   ]
  },
  {
   "cell_type": "code",
   "execution_count": 3,
   "metadata": {
    "collapsed": false
   },
   "outputs": [
    {
     "data": {
      "text/plain": [
       "array([ 1.62021505,  0.94574603,  0.9762701 ,  1.93817447,  1.49757227,\n",
       "        3.29937568,  2.7496562 ,  1.9465947 ,  1.15936781,  2.30317708])"
      ]
     },
     "execution_count": 3,
     "metadata": {},
     "output_type": "execute_result"
    }
   ],
   "source": [
    "a"
   ]
  },
  {
   "cell_type": "code",
   "execution_count": 4,
   "metadata": {
    "collapsed": false
   },
   "outputs": [
    {
     "data": {
      "text/plain": [
       "array([-0.52971967,  0.53445901,  0.69380038,  0.60506602, -0.10400886,\n",
       "        0.03140245, -0.15851892,  1.70651279,  0.02893472,  2.41343596])"
      ]
     },
     "execution_count": 4,
     "metadata": {},
     "output_type": "execute_result"
    }
   ],
   "source": [
    "b"
   ]
  },
  {
   "cell_type": "code",
   "execution_count": 5,
   "metadata": {
    "collapsed": true
   },
   "outputs": [],
   "source": [
    "# Calculate the variance of both random variables\n",
    "var_a = a.var(ddof=1)  # by default numpy does the maximum likelihood estimate of the variance.\n",
    "# Unbiased estimate we divide by n-1, ddof = degress of freedom. Here it takes n-1\n",
    "var_b = b.var(ddof=1)\n",
    "\n",
    "# Now calculating the pooled standard deviation (Sp)\n",
    "s = np.sqrt((var_a + var_b)/2)\n",
    "\n",
    "# To calculate the t-statistics\n",
    "t = (a.mean() - b.mean()) / (s * np.sqrt(2.0/N))\n",
    "\n",
    "# To calculate the degrees of freedom. We need to pass it to the t-distribution CDF (cumulative Distribution Function)\n",
    "df = 2*N - 2\n",
    "\n",
    "# To calcuate the p-value\n",
    "p = 1 - stats.t.cdf(t, df)"
   ]
  },
  {
   "cell_type": "code",
   "execution_count": 6,
   "metadata": {
    "collapsed": false
   },
   "outputs": [
    {
     "name": "stdout",
     "output_type": "stream",
     "text": [
      "t: \t 3.50009900644 p: \t 0.00255616538122\n"
     ]
    }
   ],
   "source": [
    "print(\"t: \\t\", t, \"p: \\t\", 2*p)  # This is a two-sided test, so we multiply by 2 as there are two tails to this t-distribution\n",
    "# we are interested in."
   ]
  },
  {
   "cell_type": "code",
   "execution_count": 7,
   "metadata": {
    "collapsed": true
   },
   "outputs": [],
   "source": [
    "# Now to compare this p-value with the built-in function of scipy\n",
    "t2, p2 = stats.ttest_ind(a, b) # t-test of two independent random variables"
   ]
  },
  {
   "cell_type": "code",
   "execution_count": 8,
   "metadata": {
    "collapsed": false
   },
   "outputs": [
    {
     "name": "stdout",
     "output_type": "stream",
     "text": [
      "t: \t 3.50009900644 p: \t 0.00255616538122\n"
     ]
    }
   ],
   "source": [
    "print(\"t: \\t\", t2, \"p: \\t\", p2)"
   ]
  },
  {
   "cell_type": "code",
   "execution_count": 9,
   "metadata": {
    "collapsed": true
   },
   "outputs": [],
   "source": [
    "# Congo, we get the same answer in both cases."
   ]
  },
  {
   "cell_type": "code",
   "execution_count": 10,
   "metadata": {
    "collapsed": false
   },
   "outputs": [],
   "source": [
    "import turtle\n",
    "\n",
    "myTurtle = turtle.Turtle()\n",
    "myWin = turtle.Screen()\n",
    "\n",
    "def drawSpiral(myTurtle, lineLen):\n",
    "    if lineLen > 0:\n",
    "        myTurtle.forward(lineLen)\n",
    "        myTurtle.right(90)\n",
    "        drawSpiral(myTurtle,lineLen-5)\n",
    "\n",
    "drawSpiral(myTurtle,100)\n",
    "myWin.exitonclick()"
   ]
  },
  {
   "cell_type": "code",
   "execution_count": null,
   "metadata": {
    "collapsed": true
   },
   "outputs": [],
   "source": []
  }
 ],
 "metadata": {
  "kernelspec": {
   "display_name": "Python 3",
   "language": "python",
   "name": "python3"
  },
  "language_info": {
   "codemirror_mode": {
    "name": "ipython",
    "version": 3
   },
   "file_extension": ".py",
   "mimetype": "text/x-python",
   "name": "python",
   "nbconvert_exporter": "python",
   "pygments_lexer": "ipython3",
   "version": "3.5.1"
  }
 },
 "nbformat": 4,
 "nbformat_minor": 0
}
