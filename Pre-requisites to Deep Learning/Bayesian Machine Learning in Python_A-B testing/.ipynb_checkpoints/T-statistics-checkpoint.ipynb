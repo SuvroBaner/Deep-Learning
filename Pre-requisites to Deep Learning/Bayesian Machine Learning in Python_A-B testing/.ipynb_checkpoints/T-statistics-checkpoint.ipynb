{
 "cells": [
  {
   "cell_type": "code",
   "execution_count": 1,
   "metadata": {
    "collapsed": true
   },
   "outputs": [],
   "source": [
    "import numpy as np\n",
    "from scipy import stats"
   ]
  },
  {
   "cell_type": "code",
   "execution_count": 2,
   "metadata": {
    "collapsed": true
   },
   "outputs": [],
   "source": [
    "# Let's generate some data-\n",
    "N = 10 # 10 data points for each group.\n",
    "a = np.random.randn(N) + 2 # so, a gaussian distribution of size n with mean = 2\n",
    "b = np.random.randn(N) # same gaussian distribution of size n, but mean = 0\n",
    "# Note both have variance 1 as it is coming from Standard Normal Distribution"
   ]
  },
  {
   "cell_type": "code",
   "execution_count": 3,
   "metadata": {
    "collapsed": false
   },
   "outputs": [
    {
     "data": {
      "text/plain": [
       "array([ 0.83585604,  0.12893974,  3.50147116,  2.24051779,  1.85948333,\n",
       "        1.55550971,  3.12882349,  1.08208707,  2.05856677,  1.50715171])"
      ]
     },
     "execution_count": 3,
     "metadata": {},
     "output_type": "execute_result"
    }
   ],
   "source": [
    "a"
   ]
  },
  {
   "cell_type": "code",
   "execution_count": 4,
   "metadata": {
    "collapsed": false
   },
   "outputs": [
    {
     "data": {
      "text/plain": [
       "array([ 1.28230219, -0.15322835, -0.85936308,  0.10866995,  1.47870714,\n",
       "        1.46350623,  0.35024974,  0.39976871,  0.07391416, -0.19105373])"
      ]
     },
     "execution_count": 4,
     "metadata": {},
     "output_type": "execute_result"
    }
   ],
   "source": [
    "b"
   ]
  },
  {
   "cell_type": "code",
   "execution_count": 12,
   "metadata": {
    "collapsed": true
   },
   "outputs": [],
   "source": [
    "# Calculate the variance of both random variables\n",
    "var_a = a.var(ddof=1)  # by default numpy does the maximum likelihood estimate of the variance.\n",
    "# Unbiased estimate we divide by n-1, ddof = degress of freedom. Here it takes n-1\n",
    "var_b = b.var(ddof=1)\n",
    "\n",
    "# Now calculating the pooled standard deviation (Sp)\n",
    "s = np.sqrt((var_a + var_b)/2)\n",
    "\n",
    "# To calculate the t-statistics\n",
    "t = (a.mean() - b.mean()) / (s * np.sqrt(2.0/N))\n",
    "\n",
    "# To calculate the degrees of freedom. We need to pass it to the t-distribution CDF (cumulative Distribution Function)\n",
    "df = 2*N - 2\n",
    "\n",
    "# To calcuate the p-value\n",
    "p = 1 - stats.t.cdf(t, df)"
   ]
  },
  {
   "cell_type": "code",
   "execution_count": 13,
   "metadata": {
    "collapsed": false
   },
   "outputs": [
    {
     "name": "stdout",
     "output_type": "stream",
     "text": [
      "t: \t 3.43704398534 p: \t 0.00294000137849\n"
     ]
    }
   ],
   "source": [
    "print(\"t: \\t\", t, \"p: \\t\", 2*p)  # This is a two-sided test, so we multiply by 2 as there are two tails to this t-distribution\n",
    "# we are interested in."
   ]
  },
  {
   "cell_type": "code",
   "execution_count": 14,
   "metadata": {
    "collapsed": true
   },
   "outputs": [],
   "source": [
    "# Now to compare this p-value with the built-in function of scipy\n",
    "t2, p2 = stats.ttest_ind(a, b) # t-test of two independent random variables"
   ]
  },
  {
   "cell_type": "code",
   "execution_count": 15,
   "metadata": {
    "collapsed": false
   },
   "outputs": [
    {
     "name": "stdout",
     "output_type": "stream",
     "text": [
      "t: \t 3.43704398534 p: \t 0.00294000137849\n"
     ]
    }
   ],
   "source": [
    "print(\"t: \\t\", t2, \"p: \\t\", p2)"
   ]
  },
  {
   "cell_type": "code",
   "execution_count": null,
   "metadata": {
    "collapsed": true
   },
   "outputs": [],
   "source": [
    "# Congo, we get the same answer in both cases."
   ]
  }
 ],
 "metadata": {
  "kernelspec": {
   "display_name": "Python 3",
   "language": "python",
   "name": "python3"
  },
  "language_info": {
   "codemirror_mode": {
    "name": "ipython",
    "version": 3
   },
   "file_extension": ".py",
   "mimetype": "text/x-python",
   "name": "python",
   "nbconvert_exporter": "python",
   "pygments_lexer": "ipython3",
   "version": "3.5.1"
  }
 },
 "nbformat": 4,
 "nbformat_minor": 0
}
