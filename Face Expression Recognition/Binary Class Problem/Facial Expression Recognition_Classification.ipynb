{
 "cells": [
  {
   "cell_type": "code",
   "execution_count": 2,
   "metadata": {
    "collapsed": false
   },
   "outputs": [],
   "source": [
    "import numpy as np\n",
    "import matplotlib.pyplot as plt\n",
    "%matplotlib inline\n",
    "from sklearn.utils import shuffle"
   ]
  },
  {
   "cell_type": "code",
   "execution_count": 3,
   "metadata": {
    "collapsed": true
   },
   "outputs": [],
   "source": [
    "def getBinaryData():\n",
    "    Y = []\n",
    "    X = []\n",
    "    first = True  # to exclude the header\n",
    "    for line in open('fer2013.csv'):\n",
    "        if first:\n",
    "            first = False  # excluded the header\n",
    "        else:\n",
    "            row = line.split(',')\n",
    "            y = int(row[0])\n",
    "            if y == 0 or y == 1: # just sampling the binary data for this solution\n",
    "                Y.append(y)\n",
    "                X.append([int(p) for p in row[1].split()])\n",
    "    return np.array(X) / 255 , np.array(Y)   # pixel intensities 0 to 255, so normalize X"
   ]
  },
  {
   "cell_type": "code",
   "execution_count": 5,
   "metadata": {
    "collapsed": true
   },
   "outputs": [],
   "source": [
    "def sigmoid(A):\n",
    "    return 1 / (1 + np.exp(-A))"
   ]
  },
  {
   "cell_type": "code",
   "execution_count": 6,
   "metadata": {
    "collapsed": true
   },
   "outputs": [],
   "source": [
    "def sigmoid_cost(T, Y): # target and predicted values\n",
    "    return -(T*np.log(Y) + (1-T)*np.log(1-Y)).sum()  # negative log-likelihood across all the data points. It needs to be minimized."
   ]
  },
  {
   "cell_type": "code",
   "execution_count": 7,
   "metadata": {
    "collapsed": true
   },
   "outputs": [],
   "source": [
    "def error_rate(targets, predictions):\n",
    "    return np.mean(targets != predictions)"
   ]
  },
  {
   "cell_type": "markdown",
   "metadata": {},
   "source": [
    "### Now we are going to code our Logistic Regression Model in a class so that we can use it as an object."
   ]
  },
  {
   "cell_type": "code",
   "execution_count": 14,
   "metadata": {
    "collapsed": false
   },
   "outputs": [],
   "source": [
    "class LogisticModel(object):\n",
    "    def __init__(self):\n",
    "        pass\n",
    "    \n",
    "    def fit(self, X, Y, learning_rate = 10e-7, reg = 0, epochs = 120000, show_fig = False):\n",
    "        X, Y = shuffle(X, Y)\n",
    "        Xvalid, Yvalid = X[-1000:], Y[-1000:]  # last 1000 values as my validation set\n",
    "        X, Y = X[:-1000], Y[:-1000] # n - 1000 values as my train set\n",
    "        \n",
    "        N, D = X.shape\n",
    "        \n",
    "        self.W = np.random.randn(D) / np.sqrt(D) # initialize our weights\n",
    "        self.b = 0 # bias would be 0\n",
    "        \n",
    "        costs = []\n",
    "        best_validation_error = 1\n",
    "        for i in range(epochs):\n",
    "            pY = self.forward(X) # probability of Y given X\n",
    "            \n",
    "            # Gradient Descent Step-\n",
    "            self.W -= learning_rate*(X.T.dot(pY - Y) + reg*self.W)  \n",
    "            # adding the regularization term to the gradient of the negative log likelihood function and performing gradient desc\n",
    "            self.b -= learning_rate*((pY - Y).sum() + reg*self.b)  # bias term\n",
    "            \n",
    "            if i % 1000 == 0:  # in every 1000 steps we calculate the cost of the validation set\n",
    "                pYvalid = self.forward(Xvalid)\n",
    "                c = sigmoid_cost(Yvalid, pYvalid)  # calculating the cost\n",
    "                costs.append(c)\n",
    "                e = error_rate(Yvalid, np.round(pYvalid))\n",
    "                print(\"i:\", i, \"cost:\", c, \"error:\", e)\n",
    "                if e < best_validation_error:\n",
    "                    best_validation_error = e  # we keep a track of the best validation error\n",
    "        print(\"best_validation_error:\", best_validation_error)\n",
    "        \n",
    "        if show_fig:\n",
    "            plt.plot(costs)\n",
    "            plt.show()\n",
    "    \n",
    "    def forward(self, X):\n",
    "        return sigmoid(X.dot(self.W) + self.b)\n",
    "    \n",
    "    def predict(self, X):\n",
    "        pY = self.forward(X)\n",
    "        return np.round(pY)\n",
    "    \n",
    "    def score(self, X, Y):\n",
    "        prediction = self.predict(X)\n",
    "        return 1 - error_rate(Y, prediction)"
   ]
  },
  {
   "cell_type": "code",
   "execution_count": 15,
   "metadata": {
    "collapsed": false
   },
   "outputs": [
    {
     "name": "stdout",
     "output_type": "stream",
     "text": [
      "i: 0 cost: 715.723144285 error: 0.547\n",
      "i: 1000 cost: 608.053059029 error: 0.315\n",
      "i: 2000 cost: 587.676922728 error: 0.293\n",
      "i: 3000 cost: 574.447482151 error: 0.291\n",
      "i: 4000 cost: 564.567730513 error: 0.289\n",
      "i: 5000 cost: 556.707334019 error: 0.287\n",
      "i: 6000 cost: 550.198647164 error: 0.281\n",
      "i: 7000 cost: 544.654261326 error: 0.275\n",
      "i: 8000 cost: 539.830144076 error: 0.27\n",
      "i: 9000 cost: 535.563379659 error: 0.268\n",
      "i: 10000 cost: 531.740146883 error: 0.265\n",
      "i: 11000 cost: 528.277923314 error: 0.265\n",
      "i: 12000 cost: 525.1150114 error: 0.261\n",
      "i: 13000 cost: 522.204080821 error: 0.258\n",
      "i: 14000 cost: 519.508027158 error: 0.252\n",
      "i: 15000 cost: 516.997223561 error: 0.251\n",
      "i: 16000 cost: 514.647640999 error: 0.25\n",
      "i: 17000 cost: 512.439527629 error: 0.247\n",
      "i: 18000 cost: 510.3564585 error: 0.238\n",
      "i: 19000 cost: 508.384636954 error: 0.235\n",
      "i: 20000 cost: 506.512371152 error: 0.233\n",
      "i: 21000 cost: 504.729675076 error: 0.23\n",
      "i: 22000 cost: 503.027959731 error: 0.228\n",
      "i: 23000 cost: 501.39979092 error: 0.226\n",
      "i: 24000 cost: 499.838696902 error: 0.226\n",
      "i: 25000 cost: 498.33901402 error: 0.225\n",
      "i: 26000 cost: 496.895761601 error: 0.222\n",
      "i: 27000 cost: 495.504539699 error: 0.219\n",
      "i: 28000 cost: 494.161444862 error: 0.217\n",
      "i: 29000 cost: 492.863000251 error: 0.214\n",
      "i: 30000 cost: 491.606097313 error: 0.215\n",
      "i: 31000 cost: 490.387946808 error: 0.215\n",
      "i: 32000 cost: 489.206037466 error: 0.215\n",
      "i: 33000 cost: 488.058100938 error: 0.215\n",
      "i: 34000 cost: 486.94208193 error: 0.215\n",
      "i: 35000 cost: 485.856112651 error: 0.216\n",
      "i: 36000 cost: 484.798490878 error: 0.216\n",
      "i: 37000 cost: 483.76766105 error: 0.215\n",
      "i: 38000 cost: 482.762197909 error: 0.215\n",
      "i: 39000 cost: 481.780792316 error: 0.215\n",
      "i: 40000 cost: 480.822238899 error: 0.214\n",
      "i: 41000 cost: 479.885425272 error: 0.213\n",
      "i: 42000 cost: 478.969322597 error: 0.212\n",
      "i: 43000 cost: 478.072977296 error: 0.212\n",
      "i: 44000 cost: 477.195503754 error: 0.213\n",
      "i: 45000 cost: 476.336077886 error: 0.212\n",
      "i: 46000 cost: 475.493931436 error: 0.212\n",
      "i: 47000 cost: 474.668346924 error: 0.211\n",
      "i: 48000 cost: 473.858653151 error: 0.211\n",
      "i: 49000 cost: 473.0642212 error: 0.211\n",
      "i: 50000 cost: 472.284460849 error: 0.207\n",
      "i: 51000 cost: 471.518817375 error: 0.207\n",
      "i: 52000 cost: 470.766768673 error: 0.209\n",
      "i: 53000 cost: 470.027822676 error: 0.21\n",
      "i: 54000 cost: 469.301515019 error: 0.21\n",
      "i: 55000 cost: 468.587406939 error: 0.209\n",
      "i: 56000 cost: 467.885083369 error: 0.209\n",
      "i: 57000 cost: 467.194151208 error: 0.209\n",
      "i: 58000 cost: 466.514237758 error: 0.209\n",
      "i: 59000 cost: 465.844989292 error: 0.21\n",
      "i: 60000 cost: 465.186069749 error: 0.206\n",
      "i: 61000 cost: 464.537159552 error: 0.206\n",
      "i: 62000 cost: 463.897954511 error: 0.207\n",
      "i: 63000 cost: 463.268164831 error: 0.205\n",
      "i: 64000 cost: 462.647514191 error: 0.201\n",
      "i: 65000 cost: 462.035738904 error: 0.198\n",
      "i: 66000 cost: 461.43258714 error: 0.199\n",
      "i: 67000 cost: 460.837818208 error: 0.198\n",
      "i: 68000 cost: 460.251201896 error: 0.197\n",
      "i: 69000 cost: 459.672517858 error: 0.197\n",
      "i: 70000 cost: 459.101555048 error: 0.196\n",
      "i: 71000 cost: 458.538111191 error: 0.197\n",
      "i: 72000 cost: 457.981992299 error: 0.196\n",
      "i: 73000 cost: 457.433012209 error: 0.195\n",
      "i: 74000 cost: 456.890992168 error: 0.194\n",
      "i: 75000 cost: 456.355760434 error: 0.194\n",
      "i: 76000 cost: 455.827151906 error: 0.194\n",
      "i: 77000 cost: 455.305007786 error: 0.194\n",
      "i: 78000 cost: 454.78917525 error: 0.191\n",
      "i: 79000 cost: 454.279507154 error: 0.191\n",
      "i: 80000 cost: 453.775861745 error: 0.189\n",
      "i: 81000 cost: 453.278102401 error: 0.189\n",
      "i: 82000 cost: 452.786097381 error: 0.188\n",
      "i: 83000 cost: 452.29971959 error: 0.188\n",
      "i: 84000 cost: 451.818846362 error: 0.188\n",
      "i: 85000 cost: 451.343359252 error: 0.188\n",
      "i: 86000 cost: 450.873143839 error: 0.187\n",
      "i: 87000 cost: 450.408089547 error: 0.186\n",
      "i: 88000 cost: 449.948089468 error: 0.185\n",
      "i: 89000 cost: 449.4930402 error: 0.184\n",
      "i: 90000 cost: 449.042841693 error: 0.183\n",
      "i: 91000 cost: 448.597397102 error: 0.182\n",
      "i: 92000 cost: 448.156612649 error: 0.18\n",
      "i: 93000 cost: 447.720397491 error: 0.18\n",
      "i: 94000 cost: 447.2886636 error: 0.18\n",
      "i: 95000 cost: 446.861325643 error: 0.179\n",
      "i: 96000 cost: 446.438300867 error: 0.179\n",
      "i: 97000 cost: 446.019509003 error: 0.176\n",
      "i: 98000 cost: 445.604872154 error: 0.176\n",
      "i: 99000 cost: 445.194314709 error: 0.175\n",
      "i: 100000 cost: 444.787763248 error: 0.175\n",
      "i: 101000 cost: 444.385146457 error: 0.175\n",
      "i: 102000 cost: 443.986395045 error: 0.175\n",
      "i: 103000 cost: 443.591441669 error: 0.173\n",
      "i: 104000 cost: 443.200220856 error: 0.171\n",
      "i: 105000 cost: 442.812668934 error: 0.17\n",
      "i: 106000 cost: 442.428723965 error: 0.169\n",
      "i: 107000 cost: 442.048325679 error: 0.169\n",
      "i: 108000 cost: 441.671415416 error: 0.169\n",
      "i: 109000 cost: 441.297936063 error: 0.169\n",
      "i: 110000 cost: 440.927832001 error: 0.169\n",
      "i: 111000 cost: 440.561049053 error: 0.169\n",
      "i: 112000 cost: 440.197534427 error: 0.168\n",
      "i: 113000 cost: 439.837236674 error: 0.168\n",
      "i: 114000 cost: 439.480105637 error: 0.168\n",
      "i: 115000 cost: 439.126092408 error: 0.168\n",
      "i: 116000 cost: 438.775149287 error: 0.168\n",
      "i: 117000 cost: 438.427229735 error: 0.169\n",
      "i: 118000 cost: 438.082288342 error: 0.168\n",
      "i: 119000 cost: 437.740280786 error: 0.168\n",
      "best_validation_error: 0.168\n"
     ]
    },
    {
     "data": {
      "image/png": "[encoded data removed]",
      "text/plain": [
       "<matplotlib.figure.Figure at 0x2139a42dbe0>"
      ]
     },
     "metadata": {},
     "output_type": "display_data"
    }
   ],
   "source": [
    "def main():\n",
    "    X, Y = getBinaryData() # it retrieves our data\n",
    "    \n",
    "    X0 = X[Y==0, :]\n",
    "    X1 = X[Y==1, :]\n",
    "    X1 = np.repeat(X1, 9, axis=0) # oversampling X1 as it is 9 times less than the X0 data points\n",
    "    X = np.vstack([X0, X1])  # vertically stack them\n",
    "    Y = np.array([0]*len(X0) + [1]*len(X1))\n",
    "    \n",
    "    model = LogisticModel()\n",
    "    model.fit(X, Y, show_fig = True)\n",
    "    model.score(X, Y)\n",
    "    \n",
    "if __name__ == '__main__':\n",
    "    main()"
   ]
  },
  {
   "cell_type": "code",
   "execution_count": null,
   "metadata": {
    "collapsed": true
   },
   "outputs": [],
   "source": []
  }
 ],
 "metadata": {
  "kernelspec": {
   "display_name": "Python 3",
   "language": "python",
   "name": "python3"
  },
  "language_info": {
   "codemirror_mode": {
    "name": "ipython",
    "version": 3
   },
   "file_extension": ".py",
   "mimetype": "text/x-python",
   "name": "python",
   "nbconvert_exporter": "python",
   "pygments_lexer": "ipython3",
   "version": "3.5.1"
  }
 },
 "nbformat": 4,
 "nbformat_minor": 0
}
